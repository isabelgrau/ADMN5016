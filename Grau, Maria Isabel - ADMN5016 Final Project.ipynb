{
 "cells": [
  {
   "attachments": {
    "image.png": {
     "image/png": "[encoded data removed]"
    }
   },
   "cell_type": "markdown",
   "id": "e53e83a8",
   "metadata": {},
   "source": [
    "![image.png](attachment:image.png)"
   ]
  },
  {
   "cell_type": "markdown",
   "id": "ac01461a",
   "metadata": {},
   "source": [
    "### ADMN5016: Applied Artificial Intelligence and Machine Learning<br><br>Maria Isabel Dio Grau || Final Project"
   ]
  },
  {
   "cell_type": "markdown",
   "id": "cba2e070",
   "metadata": {},
   "source": [
    "## Project Background\n",
    "\n",
    "**Dataset Description**: This dataset includes account and activity information from over 3,000 customers of Orange Telecom, including state, area code, mobile plan, total day calls, etc. The target variable is whether or not these customers churned or terminated their telecom subscription.\n",
    "\n",
    "**Machine Learning Algorithm**: K Nearest Neighbors, Logistic Regression, Support Vector Machine, Decision Trees, Random Forest\n",
    "\n",
    "**Business Case**: Mobile company ADMN has built a wide customer base over the past few years and now has enough data to analyze in order to maintain good relationships with its customers since it costs less to retain an existing customer than to acquire a new customer. Using classification algorithms, this project aims to predict whether a customer will churn. If a customer is predicted as likely to churn, the company can take corrective actions to improve its services, such as increasing customer support staff or offering mobile plan promotions. This will also make the company more competitive against other mobile plan providers because of its proactive approach to providing quality service."
   ]
  },
  {
   "cell_type": "markdown",
   "id": "49535838",
   "metadata": {},
   "source": [
    "***"
   ]
  },
  {
   "cell_type": "markdown",
   "id": "889a4369",
   "metadata": {},
   "source": [
    "## Table of Contents\n",
    "\n",
    "<a href='#overview'>Data Overview</a><br>\n",
    "<a href='#preparation'>Data and Model Preparation</a><br>\n",
    "<a href='#knn'>K Nearest Neighbors</a><br>\n",
    "<a href='#lr'>Logistic Regression</a><br>\n",
    "<a href='#svm'>Support Vector Machine</a><br>\n",
    "<a href='#tree'>Decision Tree</a><br>\n",
    "<a href='#bag'>Decision Tree with Bagging</a><br>\n",
    "<a href='#forest'>Random Forest</a><br>\n",
    "<a href='#comparison'>Model Comparison</a>"
   ]
  },
  {
   "cell_type": "code",
   "execution_count": 1,
   "id": "df23557a",
   "metadata": {},
   "outputs": [],
   "source": [
    "# Run if kernel keeps crashing\n",
    "\n",
    "import os\n",
    "os.environ[\"KMP_DUPLICATE_LIB_OK\"]=\"TRUE\""
   ]
  },
  {
   "cell_type": "code",
   "execution_count": 2,
   "id": "9fc812c8",
   "metadata": {},
   "outputs": [],
   "source": [
    "# Import libraries\n",
    "\n",
    "import pandas as pd\n",
    "import numpy as np\n",
    "import matplotlib.pyplot as plt\n",
    "import seaborn as sns\n",
    "from sklearn import preprocessing\n",
    "from sklearn.model_selection import train_test_split\n",
    "from sklearn.neighbors import KNeighborsClassifier\n",
    "from sklearn.linear_model import LogisticRegression\n",
    "from sklearn.svm import SVC\n",
    "from sklearn.model_selection import GridSearchCV\n",
    "from sklearn.tree import DecisionTreeClassifier\n",
    "from sklearn import tree\n",
    "from sklearn.ensemble import BaggingClassifier\n",
    "from sklearn.ensemble import RandomForestClassifier\n",
    "from sklearn.metrics import confusion_matrix, precision_recall_fscore_support, recall_score, accuracy_score\n",
    "from tqdm import tqdm\n",
    "sns.set(style=\"whitegrid\", color_codes=True)\n",
    "import itertools\n",
    "%matplotlib inline  \n",
    "import warnings\n",
    "warnings.filterwarnings(\"ignore\", category=DeprecationWarning)"
   ]
  },
  {
   "cell_type": "markdown",
   "id": "9b1bcf69",
   "metadata": {},
   "source": [
    "<a id='overview'></a>"
   ]
  },
  {
   "cell_type": "markdown",
   "id": "71c01138",
   "metadata": {},
   "source": [
    "## Data Overview"
   ]
  },
  {
   "cell_type": "code",
   "execution_count": 3,
   "id": "e5036e80",
   "metadata": {},
   "outputs": [],
   "source": [
    "# Get dataset\n",
    "churn_df = pd.read_csv(\"https://raw.githubusercontent.com/isabelgrau/ADMN5016/4b2bf4fca9bee85bf727144792bd2b530d89a5e3/telecom-churn.csv\")"
   ]
  },
  {
   "cell_type": "code",
   "execution_count": 4,
   "id": "b0fdf097",
   "metadata": {},
   "outputs": [
    {
     "data": {
      "text/html": [
       "<div>\n",
       "<style scoped>\n",
       "    .dataframe tbody tr th:only-of-type {\n",
       "        vertical-align: middle;\n",
       "    }\n",
       "\n",
       "    .dataframe tbody tr th {\n",
       "        vertical-align: top;\n",
       "    }\n",
       "\n",
       "    .dataframe thead th {\n",
       "        text-align: right;\n",
       "    }\n",
       "</style>\n",
       "<table border=\"1\" class=\"dataframe\">\n",
       "  <thead>\n",
       "    <tr style=\"text-align: right;\">\n",
       "      <th></th>\n",
       "      <th>State</th>\n",
       "      <th>Account length</th>\n",
       "      <th>Area code</th>\n",
       "      <th>International plan</th>\n",
       "      <th>Voice mail plan</th>\n",
       "      <th>Number vmail messages</th>\n",
       "      <th>Total day minutes</th>\n",
       "      <th>Total day calls</th>\n",
       "      <th>Total day charge</th>\n",
       "      <th>Total eve minutes</th>\n",
       "      <th>Total eve calls</th>\n",
       "      <th>Total eve charge</th>\n",
       "      <th>Total night minutes</th>\n",
       "      <th>Total night calls</th>\n",
       "      <th>Total night charge</th>\n",
       "      <th>Total intl minutes</th>\n",
       "      <th>Total intl calls</th>\n",
       "      <th>Total intl charge</th>\n",
       "      <th>Customer service calls</th>\n",
       "      <th>Churn</th>\n",
       "    </tr>\n",
       "  </thead>\n",
       "  <tbody>\n",
       "    <tr>\n",
       "      <th>0</th>\n",
       "      <td>KS</td>\n",
       "      <td>128</td>\n",
       "      <td>415</td>\n",
       "      <td>No</td>\n",
       "      <td>Yes</td>\n",
       "      <td>25</td>\n",
       "      <td>265.1</td>\n",
       "      <td>110</td>\n",
       "      <td>45.07</td>\n",
       "      <td>197.4</td>\n",
       "      <td>99</td>\n",
       "      <td>16.78</td>\n",
       "      <td>244.7</td>\n",
       "      <td>91</td>\n",
       "      <td>11.01</td>\n",
       "      <td>10.0</td>\n",
       "      <td>3</td>\n",
       "      <td>2.70</td>\n",
       "      <td>1</td>\n",
       "      <td>False</td>\n",
       "    </tr>\n",
       "    <tr>\n",
       "      <th>1</th>\n",
       "      <td>OH</td>\n",
       "      <td>107</td>\n",
       "      <td>415</td>\n",
       "      <td>No</td>\n",
       "      <td>Yes</td>\n",
       "      <td>26</td>\n",
       "      <td>161.6</td>\n",
       "      <td>123</td>\n",
       "      <td>27.47</td>\n",
       "      <td>195.5</td>\n",
       "      <td>103</td>\n",
       "      <td>16.62</td>\n",
       "      <td>254.4</td>\n",
       "      <td>103</td>\n",
       "      <td>11.45</td>\n",
       "      <td>13.7</td>\n",
       "      <td>3</td>\n",
       "      <td>3.70</td>\n",
       "      <td>1</td>\n",
       "      <td>False</td>\n",
       "    </tr>\n",
       "    <tr>\n",
       "      <th>2</th>\n",
       "      <td>NJ</td>\n",
       "      <td>137</td>\n",
       "      <td>415</td>\n",
       "      <td>No</td>\n",
       "      <td>No</td>\n",
       "      <td>0</td>\n",
       "      <td>243.4</td>\n",
       "      <td>114</td>\n",
       "      <td>41.38</td>\n",
       "      <td>121.2</td>\n",
       "      <td>110</td>\n",
       "      <td>10.30</td>\n",
       "      <td>162.6</td>\n",
       "      <td>104</td>\n",
       "      <td>7.32</td>\n",
       "      <td>12.2</td>\n",
       "      <td>5</td>\n",
       "      <td>3.29</td>\n",
       "      <td>0</td>\n",
       "      <td>False</td>\n",
       "    </tr>\n",
       "    <tr>\n",
       "      <th>3</th>\n",
       "      <td>OH</td>\n",
       "      <td>84</td>\n",
       "      <td>408</td>\n",
       "      <td>Yes</td>\n",
       "      <td>No</td>\n",
       "      <td>0</td>\n",
       "      <td>299.4</td>\n",
       "      <td>71</td>\n",
       "      <td>50.90</td>\n",
       "      <td>61.9</td>\n",
       "      <td>88</td>\n",
       "      <td>5.26</td>\n",
       "      <td>196.9</td>\n",
       "      <td>89</td>\n",
       "      <td>8.86</td>\n",
       "      <td>6.6</td>\n",
       "      <td>7</td>\n",
       "      <td>1.78</td>\n",
       "      <td>2</td>\n",
       "      <td>False</td>\n",
       "    </tr>\n",
       "    <tr>\n",
       "      <th>4</th>\n",
       "      <td>OK</td>\n",
       "      <td>75</td>\n",
       "      <td>415</td>\n",
       "      <td>Yes</td>\n",
       "      <td>No</td>\n",
       "      <td>0</td>\n",
       "      <td>166.7</td>\n",
       "      <td>113</td>\n",
       "      <td>28.34</td>\n",
       "      <td>148.3</td>\n",
       "      <td>122</td>\n",
       "      <td>12.61</td>\n",
       "      <td>186.9</td>\n",
       "      <td>121</td>\n",
       "      <td>8.41</td>\n",
       "      <td>10.1</td>\n",
       "      <td>3</td>\n",
       "      <td>2.73</td>\n",
       "      <td>3</td>\n",
       "      <td>False</td>\n",
       "    </tr>\n",
       "  </tbody>\n",
       "</table>\n",
       "</div>"
      ],
      "text/plain": [
       "  State  Account length  Area code International plan Voice mail plan  \\\n",
       "0    KS             128        415                 No             Yes   \n",
       "1    OH             107        415                 No             Yes   \n",
       "2    NJ             137        415                 No              No   \n",
       "3    OH              84        408                Yes              No   \n",
       "4    OK              75        415                Yes              No   \n",
       "\n",
       "   Number vmail messages  Total day minutes  Total day calls  \\\n",
       "0                     25              265.1              110   \n",
       "1                     26              161.6              123   \n",
       "2                      0              243.4              114   \n",
       "3                      0              299.4               71   \n",
       "4                      0              166.7              113   \n",
       "\n",
       "   Total day charge  Total eve minutes  Total eve calls  Total eve charge  \\\n",
       "0             45.07              197.4               99             16.78   \n",
       "1             27.47              195.5              103             16.62   \n",
       "2             41.38              121.2              110             10.30   \n",
       "3             50.90               61.9               88              5.26   \n",
       "4             28.34              148.3              122             12.61   \n",
       "\n",
       "   Total night minutes  Total night calls  Total night charge  \\\n",
       "0                244.7                 91               11.01   \n",
       "1                254.4                103               11.45   \n",
       "2                162.6                104                7.32   \n",
       "3                196.9                 89                8.86   \n",
       "4                186.9                121                8.41   \n",
       "\n",
       "   Total intl minutes  Total intl calls  Total intl charge  \\\n",
       "0                10.0                 3               2.70   \n",
       "1                13.7                 3               3.70   \n",
       "2                12.2                 5               3.29   \n",
       "3                 6.6                 7               1.78   \n",
       "4                10.1                 3               2.73   \n",
       "\n",
       "   Customer service calls  Churn  \n",
       "0                       1  False  \n",
       "1                       1  False  \n",
       "2                       0  False  \n",
       "3                       2  False  \n",
       "4                       3  False  "
      ]
     },
     "execution_count": 4,
     "metadata": {},
     "output_type": "execute_result"
    }
   ],
   "source": [
    "# View first 5 rows\n",
    "churn_df.head()"
   ]
  },
  {
   "cell_type": "code",
   "execution_count": 5,
   "id": "b2e9267a",
   "metadata": {},
   "outputs": [
    {
     "data": {
      "text/html": [
       "<div>\n",
       "<style scoped>\n",
       "    .dataframe tbody tr th:only-of-type {\n",
       "        vertical-align: middle;\n",
       "    }\n",
       "\n",
       "    .dataframe tbody tr th {\n",
       "        vertical-align: top;\n",
       "    }\n",
       "\n",
       "    .dataframe thead th {\n",
       "        text-align: right;\n",
       "    }\n",
       "</style>\n",
       "<table border=\"1\" class=\"dataframe\">\n",
       "  <thead>\n",
       "    <tr style=\"text-align: right;\">\n",
       "      <th></th>\n",
       "      <th>State</th>\n",
       "      <th>Account length</th>\n",
       "      <th>Area code</th>\n",
       "      <th>International plan</th>\n",
       "      <th>Voice mail plan</th>\n",
       "      <th>Number vmail messages</th>\n",
       "      <th>Total day minutes</th>\n",
       "      <th>Total day calls</th>\n",
       "      <th>Total day charge</th>\n",
       "      <th>Total eve minutes</th>\n",
       "      <th>Total eve calls</th>\n",
       "      <th>Total eve charge</th>\n",
       "      <th>Total night minutes</th>\n",
       "      <th>Total night calls</th>\n",
       "      <th>Total night charge</th>\n",
       "      <th>Total intl minutes</th>\n",
       "      <th>Total intl calls</th>\n",
       "      <th>Total intl charge</th>\n",
       "      <th>Customer service calls</th>\n",
       "      <th>Churn</th>\n",
       "    </tr>\n",
       "  </thead>\n",
       "  <tbody>\n",
       "    <tr>\n",
       "      <th>0</th>\n",
       "      <td>KS</td>\n",
       "      <td>128</td>\n",
       "      <td>415</td>\n",
       "      <td>0</td>\n",
       "      <td>1</td>\n",
       "      <td>25</td>\n",
       "      <td>265.1</td>\n",
       "      <td>110</td>\n",
       "      <td>45.07</td>\n",
       "      <td>197.4</td>\n",
       "      <td>99</td>\n",
       "      <td>16.78</td>\n",
       "      <td>244.7</td>\n",
       "      <td>91</td>\n",
       "      <td>11.01</td>\n",
       "      <td>10.0</td>\n",
       "      <td>3</td>\n",
       "      <td>2.70</td>\n",
       "      <td>1</td>\n",
       "      <td>0</td>\n",
       "    </tr>\n",
       "    <tr>\n",
       "      <th>1</th>\n",
       "      <td>OH</td>\n",
       "      <td>107</td>\n",
       "      <td>415</td>\n",
       "      <td>0</td>\n",
       "      <td>1</td>\n",
       "      <td>26</td>\n",
       "      <td>161.6</td>\n",
       "      <td>123</td>\n",
       "      <td>27.47</td>\n",
       "      <td>195.5</td>\n",
       "      <td>103</td>\n",
       "      <td>16.62</td>\n",
       "      <td>254.4</td>\n",
       "      <td>103</td>\n",
       "      <td>11.45</td>\n",
       "      <td>13.7</td>\n",
       "      <td>3</td>\n",
       "      <td>3.70</td>\n",
       "      <td>1</td>\n",
       "      <td>0</td>\n",
       "    </tr>\n",
       "    <tr>\n",
       "      <th>2</th>\n",
       "      <td>NJ</td>\n",
       "      <td>137</td>\n",
       "      <td>415</td>\n",
       "      <td>0</td>\n",
       "      <td>0</td>\n",
       "      <td>0</td>\n",
       "      <td>243.4</td>\n",
       "      <td>114</td>\n",
       "      <td>41.38</td>\n",
       "      <td>121.2</td>\n",
       "      <td>110</td>\n",
       "      <td>10.30</td>\n",
       "      <td>162.6</td>\n",
       "      <td>104</td>\n",
       "      <td>7.32</td>\n",
       "      <td>12.2</td>\n",
       "      <td>5</td>\n",
       "      <td>3.29</td>\n",
       "      <td>0</td>\n",
       "      <td>0</td>\n",
       "    </tr>\n",
       "    <tr>\n",
       "      <th>3</th>\n",
       "      <td>OH</td>\n",
       "      <td>84</td>\n",
       "      <td>408</td>\n",
       "      <td>1</td>\n",
       "      <td>0</td>\n",
       "      <td>0</td>\n",
       "      <td>299.4</td>\n",
       "      <td>71</td>\n",
       "      <td>50.90</td>\n",
       "      <td>61.9</td>\n",
       "      <td>88</td>\n",
       "      <td>5.26</td>\n",
       "      <td>196.9</td>\n",
       "      <td>89</td>\n",
       "      <td>8.86</td>\n",
       "      <td>6.6</td>\n",
       "      <td>7</td>\n",
       "      <td>1.78</td>\n",
       "      <td>2</td>\n",
       "      <td>0</td>\n",
       "    </tr>\n",
       "    <tr>\n",
       "      <th>4</th>\n",
       "      <td>OK</td>\n",
       "      <td>75</td>\n",
       "      <td>415</td>\n",
       "      <td>1</td>\n",
       "      <td>0</td>\n",
       "      <td>0</td>\n",
       "      <td>166.7</td>\n",
       "      <td>113</td>\n",
       "      <td>28.34</td>\n",
       "      <td>148.3</td>\n",
       "      <td>122</td>\n",
       "      <td>12.61</td>\n",
       "      <td>186.9</td>\n",
       "      <td>121</td>\n",
       "      <td>8.41</td>\n",
       "      <td>10.1</td>\n",
       "      <td>3</td>\n",
       "      <td>2.73</td>\n",
       "      <td>3</td>\n",
       "      <td>0</td>\n",
       "    </tr>\n",
       "  </tbody>\n",
       "</table>\n",
       "</div>"
      ],
      "text/plain": [
       "  State  Account length  Area code  International plan  Voice mail plan  \\\n",
       "0    KS             128        415                   0                1   \n",
       "1    OH             107        415                   0                1   \n",
       "2    NJ             137        415                   0                0   \n",
       "3    OH              84        408                   1                0   \n",
       "4    OK              75        415                   1                0   \n",
       "\n",
       "   Number vmail messages  Total day minutes  Total day calls  \\\n",
       "0                     25              265.1              110   \n",
       "1                     26              161.6              123   \n",
       "2                      0              243.4              114   \n",
       "3                      0              299.4               71   \n",
       "4                      0              166.7              113   \n",
       "\n",
       "   Total day charge  Total eve minutes  Total eve calls  Total eve charge  \\\n",
       "0             45.07              197.4               99             16.78   \n",
       "1             27.47              195.5              103             16.62   \n",
       "2             41.38              121.2              110             10.30   \n",
       "3             50.90               61.9               88              5.26   \n",
       "4             28.34              148.3              122             12.61   \n",
       "\n",
       "   Total night minutes  Total night calls  Total night charge  \\\n",
       "0                244.7                 91               11.01   \n",
       "1                254.4                103               11.45   \n",
       "2                162.6                104                7.32   \n",
       "3                196.9                 89                8.86   \n",
       "4                186.9                121                8.41   \n",
       "\n",
       "   Total intl minutes  Total intl calls  Total intl charge  \\\n",
       "0                10.0                 3               2.70   \n",
       "1                13.7                 3               3.70   \n",
       "2                12.2                 5               3.29   \n",
       "3                 6.6                 7               1.78   \n",
       "4                10.1                 3               2.73   \n",
       "\n",
       "   Customer service calls  Churn  \n",
       "0                       1      0  \n",
       "1                       1      0  \n",
       "2                       0      0  \n",
       "3                       2      0  \n",
       "4                       3      0  "
      ]
     },
     "execution_count": 5,
     "metadata": {},
     "output_type": "execute_result"
    }
   ],
   "source": [
    "# Recode variables\n",
    "churn_df['Churn'] = churn_df['Churn'].astype('int')\n",
    "churn_df[[\"International plan\", \"Voice mail plan\"]] = (churn_df[[\"International plan\", \"Voice mail plan\"]] == \"Yes\").astype('int')\n",
    "churn_df.head()"
   ]
  },
  {
   "cell_type": "code",
   "execution_count": 6,
   "id": "83e93b35",
   "metadata": {},
   "outputs": [
    {
     "data": {
      "text/plain": [
       "(3333, 20)"
      ]
     },
     "execution_count": 6,
     "metadata": {},
     "output_type": "execute_result"
    }
   ],
   "source": [
    "churn_df.shape"
   ]
  },
  {
   "cell_type": "markdown",
   "id": "796a6d67",
   "metadata": {},
   "source": [
    "There are 3,333 customers and 20 dimensions in the dataset."
   ]
  },
  {
   "cell_type": "code",
   "execution_count": 7,
   "id": "004e644d",
   "metadata": {},
   "outputs": [
    {
     "name": "stdout",
     "output_type": "stream",
     "text": [
      "<class 'pandas.core.frame.DataFrame'>\n",
      "RangeIndex: 3333 entries, 0 to 3332\n",
      "Data columns (total 20 columns):\n",
      " #   Column                  Non-Null Count  Dtype  \n",
      "---  ------                  --------------  -----  \n",
      " 0   State                   3333 non-null   object \n",
      " 1   Account length          3333 non-null   int64  \n",
      " 2   Area code               3333 non-null   int64  \n",
      " 3   International plan      3333 non-null   int32  \n",
      " 4   Voice mail plan         3333 non-null   int32  \n",
      " 5   Number vmail messages   3333 non-null   int64  \n",
      " 6   Total day minutes       3333 non-null   float64\n",
      " 7   Total day calls         3333 non-null   int64  \n",
      " 8   Total day charge        3333 non-null   float64\n",
      " 9   Total eve minutes       3333 non-null   float64\n",
      " 10  Total eve calls         3333 non-null   int64  \n",
      " 11  Total eve charge        3333 non-null   float64\n",
      " 12  Total night minutes     3333 non-null   float64\n",
      " 13  Total night calls       3333 non-null   int64  \n",
      " 14  Total night charge      3333 non-null   float64\n",
      " 15  Total intl minutes      3333 non-null   float64\n",
      " 16  Total intl calls        3333 non-null   int64  \n",
      " 17  Total intl charge       3333 non-null   float64\n",
      " 18  Customer service calls  3333 non-null   int64  \n",
      " 19  Churn                   3333 non-null   int32  \n",
      "dtypes: float64(8), int32(3), int64(8), object(1)\n",
      "memory usage: 481.8+ KB\n"
     ]
    }
   ],
   "source": [
    "# Get dimension information\n",
    "churn_df.info()"
   ]
  },
  {
   "cell_type": "code",
   "execution_count": 8,
   "id": "7bd4a920",
   "metadata": {},
   "outputs": [
    {
     "data": {
      "text/plain": [
       "State                     0\n",
       "Account length            0\n",
       "Area code                 0\n",
       "International plan        0\n",
       "Voice mail plan           0\n",
       "Number vmail messages     0\n",
       "Total day minutes         0\n",
       "Total day calls           0\n",
       "Total day charge          0\n",
       "Total eve minutes         0\n",
       "Total eve calls           0\n",
       "Total eve charge          0\n",
       "Total night minutes       0\n",
       "Total night calls         0\n",
       "Total night charge        0\n",
       "Total intl minutes        0\n",
       "Total intl calls          0\n",
       "Total intl charge         0\n",
       "Customer service calls    0\n",
       "Churn                     0\n",
       "dtype: int64"
      ]
     },
     "execution_count": 8,
     "metadata": {},
     "output_type": "execute_result"
    }
   ],
   "source": [
    "# Check for null values\n",
    "churn_df.isnull().sum()"
   ]
  },
  {
   "cell_type": "markdown",
   "id": "50b02e7e",
   "metadata": {},
   "source": [
    "There are no null values in the dataset."
   ]
  },
  {
   "cell_type": "code",
   "execution_count": 9,
   "id": "d094499f",
   "metadata": {},
   "outputs": [
    {
     "data": {
      "image/png": "[encoded data removed]",
      "text/plain": [
       "<Figure size 1440x1080 with 20 Axes>"
      ]
     },
     "metadata": {
      "needs_background": "light"
     },
     "output_type": "display_data"
    }
   ],
   "source": [
    "# Visualize data\n",
    "churn_df.hist(bins=50, figsize=(20,15))\n",
    "plt.show()"
   ]
  },
  {
   "cell_type": "markdown",
   "id": "1a208d7e",
   "metadata": {},
   "source": [
    "The histograms show that most dimensions are normally distributed except for number of vmail messages, total international calls, and customer service calls. Because these dimensions are skewed, they will not be included in the analysis. State, account length, and area code will also be excluded as these are categorical variables (the dataset does not define \"account length\", so this analysis assumes it is an identifier).\n",
    "\n",
    "International plan and voice mail plan are boolean dimensions and could influence whether or not a customer churns, so they will remain part of the analysis."
   ]
  },
  {
   "cell_type": "code",
   "execution_count": 10,
   "id": "f0fe55f8",
   "metadata": {},
   "outputs": [
    {
     "data": {
      "text/html": [
       "<div>\n",
       "<style scoped>\n",
       "    .dataframe tbody tr th:only-of-type {\n",
       "        vertical-align: middle;\n",
       "    }\n",
       "\n",
       "    .dataframe tbody tr th {\n",
       "        vertical-align: top;\n",
       "    }\n",
       "\n",
       "    .dataframe thead th {\n",
       "        text-align: right;\n",
       "    }\n",
       "</style>\n",
       "<table border=\"1\" class=\"dataframe\">\n",
       "  <thead>\n",
       "    <tr style=\"text-align: right;\">\n",
       "      <th></th>\n",
       "      <th>International plan</th>\n",
       "      <th>Voice mail plan</th>\n",
       "      <th>Total day minutes</th>\n",
       "      <th>Total day calls</th>\n",
       "      <th>Total day charge</th>\n",
       "      <th>Total eve minutes</th>\n",
       "      <th>Total eve calls</th>\n",
       "      <th>Total eve charge</th>\n",
       "      <th>Total night minutes</th>\n",
       "      <th>Total night calls</th>\n",
       "      <th>Total night charge</th>\n",
       "      <th>Total intl minutes</th>\n",
       "      <th>Total intl charge</th>\n",
       "      <th>Churn</th>\n",
       "    </tr>\n",
       "  </thead>\n",
       "  <tbody>\n",
       "    <tr>\n",
       "      <th>0</th>\n",
       "      <td>0</td>\n",
       "      <td>1</td>\n",
       "      <td>265.1</td>\n",
       "      <td>110</td>\n",
       "      <td>45.07</td>\n",
       "      <td>197.4</td>\n",
       "      <td>99</td>\n",
       "      <td>16.78</td>\n",
       "      <td>244.7</td>\n",
       "      <td>91</td>\n",
       "      <td>11.01</td>\n",
       "      <td>10.0</td>\n",
       "      <td>2.70</td>\n",
       "      <td>0</td>\n",
       "    </tr>\n",
       "    <tr>\n",
       "      <th>1</th>\n",
       "      <td>0</td>\n",
       "      <td>1</td>\n",
       "      <td>161.6</td>\n",
       "      <td>123</td>\n",
       "      <td>27.47</td>\n",
       "      <td>195.5</td>\n",
       "      <td>103</td>\n",
       "      <td>16.62</td>\n",
       "      <td>254.4</td>\n",
       "      <td>103</td>\n",
       "      <td>11.45</td>\n",
       "      <td>13.7</td>\n",
       "      <td>3.70</td>\n",
       "      <td>0</td>\n",
       "    </tr>\n",
       "    <tr>\n",
       "      <th>2</th>\n",
       "      <td>0</td>\n",
       "      <td>0</td>\n",
       "      <td>243.4</td>\n",
       "      <td>114</td>\n",
       "      <td>41.38</td>\n",
       "      <td>121.2</td>\n",
       "      <td>110</td>\n",
       "      <td>10.30</td>\n",
       "      <td>162.6</td>\n",
       "      <td>104</td>\n",
       "      <td>7.32</td>\n",
       "      <td>12.2</td>\n",
       "      <td>3.29</td>\n",
       "      <td>0</td>\n",
       "    </tr>\n",
       "    <tr>\n",
       "      <th>3</th>\n",
       "      <td>1</td>\n",
       "      <td>0</td>\n",
       "      <td>299.4</td>\n",
       "      <td>71</td>\n",
       "      <td>50.90</td>\n",
       "      <td>61.9</td>\n",
       "      <td>88</td>\n",
       "      <td>5.26</td>\n",
       "      <td>196.9</td>\n",
       "      <td>89</td>\n",
       "      <td>8.86</td>\n",
       "      <td>6.6</td>\n",
       "      <td>1.78</td>\n",
       "      <td>0</td>\n",
       "    </tr>\n",
       "    <tr>\n",
       "      <th>4</th>\n",
       "      <td>1</td>\n",
       "      <td>0</td>\n",
       "      <td>166.7</td>\n",
       "      <td>113</td>\n",
       "      <td>28.34</td>\n",
       "      <td>148.3</td>\n",
       "      <td>122</td>\n",
       "      <td>12.61</td>\n",
       "      <td>186.9</td>\n",
       "      <td>121</td>\n",
       "      <td>8.41</td>\n",
       "      <td>10.1</td>\n",
       "      <td>2.73</td>\n",
       "      <td>0</td>\n",
       "    </tr>\n",
       "  </tbody>\n",
       "</table>\n",
       "</div>"
      ],
      "text/plain": [
       "   International plan  Voice mail plan  Total day minutes  Total day calls  \\\n",
       "0                   0                1              265.1              110   \n",
       "1                   0                1              161.6              123   \n",
       "2                   0                0              243.4              114   \n",
       "3                   1                0              299.4               71   \n",
       "4                   1                0              166.7              113   \n",
       "\n",
       "   Total day charge  Total eve minutes  Total eve calls  Total eve charge  \\\n",
       "0             45.07              197.4               99             16.78   \n",
       "1             27.47              195.5              103             16.62   \n",
       "2             41.38              121.2              110             10.30   \n",
       "3             50.90               61.9               88              5.26   \n",
       "4             28.34              148.3              122             12.61   \n",
       "\n",
       "   Total night minutes  Total night calls  Total night charge  \\\n",
       "0                244.7                 91               11.01   \n",
       "1                254.4                103               11.45   \n",
       "2                162.6                104                7.32   \n",
       "3                196.9                 89                8.86   \n",
       "4                186.9                121                8.41   \n",
       "\n",
       "   Total intl minutes  Total intl charge  Churn  \n",
       "0                10.0               2.70      0  \n",
       "1                13.7               3.70      0  \n",
       "2                12.2               3.29      0  \n",
       "3                 6.6               1.78      0  \n",
       "4                10.1               2.73      0  "
      ]
     },
     "execution_count": 10,
     "metadata": {},
     "output_type": "execute_result"
    }
   ],
   "source": [
    "# Drop variables\n",
    "churn_df = churn_df.drop([\"State\",\n",
    "                          \"Account length\",\n",
    "                          \"Area code\",\n",
    "                          \"Number vmail messages\",\n",
    "                          \"Total intl calls\",\n",
    "                          \"Customer service calls\"], axis = 1)\n",
    "churn_df.head()"
   ]
  },
  {
   "cell_type": "code",
   "execution_count": 11,
   "id": "531e76c6",
   "metadata": {},
   "outputs": [
    {
     "data": {
      "text/html": [
       "<div>\n",
       "<style scoped>\n",
       "    .dataframe tbody tr th:only-of-type {\n",
       "        vertical-align: middle;\n",
       "    }\n",
       "\n",
       "    .dataframe tbody tr th {\n",
       "        vertical-align: top;\n",
       "    }\n",
       "\n",
       "    .dataframe thead th {\n",
       "        text-align: right;\n",
       "    }\n",
       "</style>\n",
       "<table border=\"1\" class=\"dataframe\">\n",
       "  <thead>\n",
       "    <tr style=\"text-align: right;\">\n",
       "      <th></th>\n",
       "      <th>Total day minutes</th>\n",
       "      <th>Total day calls</th>\n",
       "      <th>Total day charge</th>\n",
       "      <th>Total eve minutes</th>\n",
       "      <th>Total eve calls</th>\n",
       "      <th>Total eve charge</th>\n",
       "      <th>Total night minutes</th>\n",
       "      <th>Total night calls</th>\n",
       "      <th>Total night charge</th>\n",
       "      <th>Total intl minutes</th>\n",
       "      <th>Total intl charge</th>\n",
       "    </tr>\n",
       "  </thead>\n",
       "  <tbody>\n",
       "    <tr>\n",
       "      <th>count</th>\n",
       "      <td>3333.000000</td>\n",
       "      <td>3333.000000</td>\n",
       "      <td>3333.000000</td>\n",
       "      <td>3333.000000</td>\n",
       "      <td>3333.000000</td>\n",
       "      <td>3333.000000</td>\n",
       "      <td>3333.000000</td>\n",
       "      <td>3333.000000</td>\n",
       "      <td>3333.000000</td>\n",
       "      <td>3333.000000</td>\n",
       "      <td>3333.000000</td>\n",
       "    </tr>\n",
       "    <tr>\n",
       "      <th>mean</th>\n",
       "      <td>179.775098</td>\n",
       "      <td>100.435644</td>\n",
       "      <td>30.562307</td>\n",
       "      <td>200.980348</td>\n",
       "      <td>100.114311</td>\n",
       "      <td>17.083540</td>\n",
       "      <td>200.872037</td>\n",
       "      <td>100.107711</td>\n",
       "      <td>9.039325</td>\n",
       "      <td>10.237294</td>\n",
       "      <td>2.764581</td>\n",
       "    </tr>\n",
       "    <tr>\n",
       "      <th>std</th>\n",
       "      <td>54.467389</td>\n",
       "      <td>20.069084</td>\n",
       "      <td>9.259435</td>\n",
       "      <td>50.713844</td>\n",
       "      <td>19.922625</td>\n",
       "      <td>4.310668</td>\n",
       "      <td>50.573847</td>\n",
       "      <td>19.568609</td>\n",
       "      <td>2.275873</td>\n",
       "      <td>2.791840</td>\n",
       "      <td>0.753773</td>\n",
       "    </tr>\n",
       "    <tr>\n",
       "      <th>min</th>\n",
       "      <td>0.000000</td>\n",
       "      <td>0.000000</td>\n",
       "      <td>0.000000</td>\n",
       "      <td>0.000000</td>\n",
       "      <td>0.000000</td>\n",
       "      <td>0.000000</td>\n",
       "      <td>23.200000</td>\n",
       "      <td>33.000000</td>\n",
       "      <td>1.040000</td>\n",
       "      <td>0.000000</td>\n",
       "      <td>0.000000</td>\n",
       "    </tr>\n",
       "    <tr>\n",
       "      <th>25%</th>\n",
       "      <td>143.700000</td>\n",
       "      <td>87.000000</td>\n",
       "      <td>24.430000</td>\n",
       "      <td>166.600000</td>\n",
       "      <td>87.000000</td>\n",
       "      <td>14.160000</td>\n",
       "      <td>167.000000</td>\n",
       "      <td>87.000000</td>\n",
       "      <td>7.520000</td>\n",
       "      <td>8.500000</td>\n",
       "      <td>2.300000</td>\n",
       "    </tr>\n",
       "    <tr>\n",
       "      <th>50%</th>\n",
       "      <td>179.400000</td>\n",
       "      <td>101.000000</td>\n",
       "      <td>30.500000</td>\n",
       "      <td>201.400000</td>\n",
       "      <td>100.000000</td>\n",
       "      <td>17.120000</td>\n",
       "      <td>201.200000</td>\n",
       "      <td>100.000000</td>\n",
       "      <td>9.050000</td>\n",
       "      <td>10.300000</td>\n",
       "      <td>2.780000</td>\n",
       "    </tr>\n",
       "    <tr>\n",
       "      <th>75%</th>\n",
       "      <td>216.400000</td>\n",
       "      <td>114.000000</td>\n",
       "      <td>36.790000</td>\n",
       "      <td>235.300000</td>\n",
       "      <td>114.000000</td>\n",
       "      <td>20.000000</td>\n",
       "      <td>235.300000</td>\n",
       "      <td>113.000000</td>\n",
       "      <td>10.590000</td>\n",
       "      <td>12.100000</td>\n",
       "      <td>3.270000</td>\n",
       "    </tr>\n",
       "    <tr>\n",
       "      <th>max</th>\n",
       "      <td>350.800000</td>\n",
       "      <td>165.000000</td>\n",
       "      <td>59.640000</td>\n",
       "      <td>363.700000</td>\n",
       "      <td>170.000000</td>\n",
       "      <td>30.910000</td>\n",
       "      <td>395.000000</td>\n",
       "      <td>175.000000</td>\n",
       "      <td>17.770000</td>\n",
       "      <td>20.000000</td>\n",
       "      <td>5.400000</td>\n",
       "    </tr>\n",
       "  </tbody>\n",
       "</table>\n",
       "</div>"
      ],
      "text/plain": [
       "       Total day minutes  Total day calls  Total day charge  \\\n",
       "count        3333.000000      3333.000000       3333.000000   \n",
       "mean          179.775098       100.435644         30.562307   \n",
       "std            54.467389        20.069084          9.259435   \n",
       "min             0.000000         0.000000          0.000000   \n",
       "25%           143.700000        87.000000         24.430000   \n",
       "50%           179.400000       101.000000         30.500000   \n",
       "75%           216.400000       114.000000         36.790000   \n",
       "max           350.800000       165.000000         59.640000   \n",
       "\n",
       "       Total eve minutes  Total eve calls  Total eve charge  \\\n",
       "count        3333.000000      3333.000000       3333.000000   \n",
       "mean          200.980348       100.114311         17.083540   \n",
       "std            50.713844        19.922625          4.310668   \n",
       "min             0.000000         0.000000          0.000000   \n",
       "25%           166.600000        87.000000         14.160000   \n",
       "50%           201.400000       100.000000         17.120000   \n",
       "75%           235.300000       114.000000         20.000000   \n",
       "max           363.700000       170.000000         30.910000   \n",
       "\n",
       "       Total night minutes  Total night calls  Total night charge  \\\n",
       "count          3333.000000        3333.000000         3333.000000   \n",
       "mean            200.872037         100.107711            9.039325   \n",
       "std              50.573847          19.568609            2.275873   \n",
       "min              23.200000          33.000000            1.040000   \n",
       "25%             167.000000          87.000000            7.520000   \n",
       "50%             201.200000         100.000000            9.050000   \n",
       "75%             235.300000         113.000000           10.590000   \n",
       "max             395.000000         175.000000           17.770000   \n",
       "\n",
       "       Total intl minutes  Total intl charge  \n",
       "count         3333.000000        3333.000000  \n",
       "mean            10.237294           2.764581  \n",
       "std              2.791840           0.753773  \n",
       "min              0.000000           0.000000  \n",
       "25%              8.500000           2.300000  \n",
       "50%             10.300000           2.780000  \n",
       "75%             12.100000           3.270000  \n",
       "max             20.000000           5.400000  "
      ]
     },
     "execution_count": 11,
     "metadata": {},
     "output_type": "execute_result"
    }
   ],
   "source": [
    "# Get summary statistics for numerical variables\n",
    "churn_df.iloc[:,2:13].describe()"
   ]
  },
  {
   "cell_type": "code",
   "execution_count": 12,
   "id": "24eebebe",
   "metadata": {},
   "outputs": [
    {
     "data": {
      "text/plain": [
       "0    2850\n",
       "1     483\n",
       "Name: Churn, dtype: int64"
      ]
     },
     "execution_count": 12,
     "metadata": {},
     "output_type": "execute_result"
    }
   ],
   "source": [
    "churn_df['Churn'].value_counts()"
   ]
  },
  {
   "cell_type": "code",
   "execution_count": 13,
   "id": "2cf0ed4f",
   "metadata": {},
   "outputs": [
    {
     "data": {
      "text/plain": [
       "0.14491449144914492"
      ]
     },
     "execution_count": 13,
     "metadata": {},
     "output_type": "execute_result"
    }
   ],
   "source": [
    "churn_df['Churn'].sum() / len(churn_df['Churn'])"
   ]
  },
  {
   "cell_type": "markdown",
   "id": "b39c38d8",
   "metadata": {},
   "source": [
    "14.5% of customers in the dataset churned, while 85.5% did not."
   ]
  },
  {
   "cell_type": "code",
   "execution_count": 14,
   "id": "4bf1c1c0",
   "metadata": {},
   "outputs": [
    {
     "data": {
      "text/plain": [
       "<AxesSubplot:>"
      ]
     },
     "execution_count": 14,
     "metadata": {},
     "output_type": "execute_result"
    },
    {
     "data": {
      "image/png": "[encoded data removed]",
      "text/plain": [
       "<Figure size 432x288 with 1 Axes>"
      ]
     },
     "metadata": {
      "needs_background": "light"
     },
     "output_type": "display_data"
    }
   ],
   "source": [
    "churn_df['Churn'].value_counts().plot.bar(color=['red','blue'])"
   ]
  },
  {
   "cell_type": "markdown",
   "id": "b6d7d8a9",
   "metadata": {},
   "source": [
    "<a id='preparation'></a>"
   ]
  },
  {
   "cell_type": "markdown",
   "id": "4e632a73",
   "metadata": {},
   "source": [
    "## Data and Model Preparation"
   ]
  },
  {
   "cell_type": "code",
   "execution_count": 15,
   "id": "927a225c",
   "metadata": {},
   "outputs": [],
   "source": [
    "X = churn_df.drop([\"Churn\"], axis = 1)\n",
    "y = churn_df['Churn']"
   ]
  },
  {
   "cell_type": "code",
   "execution_count": 16,
   "id": "4cbaa85c",
   "metadata": {},
   "outputs": [
    {
     "data": {
      "text/html": [
       "<div>\n",
       "<style scoped>\n",
       "    .dataframe tbody tr th:only-of-type {\n",
       "        vertical-align: middle;\n",
       "    }\n",
       "\n",
       "    .dataframe tbody tr th {\n",
       "        vertical-align: top;\n",
       "    }\n",
       "\n",
       "    .dataframe thead th {\n",
       "        text-align: right;\n",
       "    }\n",
       "</style>\n",
       "<table border=\"1\" class=\"dataframe\">\n",
       "  <thead>\n",
       "    <tr style=\"text-align: right;\">\n",
       "      <th></th>\n",
       "      <th>International plan</th>\n",
       "      <th>Voice mail plan</th>\n",
       "      <th>Total day minutes</th>\n",
       "      <th>Total day calls</th>\n",
       "      <th>Total day charge</th>\n",
       "      <th>Total eve minutes</th>\n",
       "      <th>Total eve calls</th>\n",
       "      <th>Total eve charge</th>\n",
       "      <th>Total night minutes</th>\n",
       "      <th>Total night calls</th>\n",
       "      <th>Total night charge</th>\n",
       "      <th>Total intl minutes</th>\n",
       "      <th>Total intl charge</th>\n",
       "    </tr>\n",
       "  </thead>\n",
       "  <tbody>\n",
       "    <tr>\n",
       "      <th>0</th>\n",
       "      <td>0</td>\n",
       "      <td>1</td>\n",
       "      <td>265.1</td>\n",
       "      <td>110</td>\n",
       "      <td>45.07</td>\n",
       "      <td>197.4</td>\n",
       "      <td>99</td>\n",
       "      <td>16.78</td>\n",
       "      <td>244.7</td>\n",
       "      <td>91</td>\n",
       "      <td>11.01</td>\n",
       "      <td>10.0</td>\n",
       "      <td>2.70</td>\n",
       "    </tr>\n",
       "    <tr>\n",
       "      <th>1</th>\n",
       "      <td>0</td>\n",
       "      <td>1</td>\n",
       "      <td>161.6</td>\n",
       "      <td>123</td>\n",
       "      <td>27.47</td>\n",
       "      <td>195.5</td>\n",
       "      <td>103</td>\n",
       "      <td>16.62</td>\n",
       "      <td>254.4</td>\n",
       "      <td>103</td>\n",
       "      <td>11.45</td>\n",
       "      <td>13.7</td>\n",
       "      <td>3.70</td>\n",
       "    </tr>\n",
       "    <tr>\n",
       "      <th>2</th>\n",
       "      <td>0</td>\n",
       "      <td>0</td>\n",
       "      <td>243.4</td>\n",
       "      <td>114</td>\n",
       "      <td>41.38</td>\n",
       "      <td>121.2</td>\n",
       "      <td>110</td>\n",
       "      <td>10.30</td>\n",
       "      <td>162.6</td>\n",
       "      <td>104</td>\n",
       "      <td>7.32</td>\n",
       "      <td>12.2</td>\n",
       "      <td>3.29</td>\n",
       "    </tr>\n",
       "    <tr>\n",
       "      <th>3</th>\n",
       "      <td>1</td>\n",
       "      <td>0</td>\n",
       "      <td>299.4</td>\n",
       "      <td>71</td>\n",
       "      <td>50.90</td>\n",
       "      <td>61.9</td>\n",
       "      <td>88</td>\n",
       "      <td>5.26</td>\n",
       "      <td>196.9</td>\n",
       "      <td>89</td>\n",
       "      <td>8.86</td>\n",
       "      <td>6.6</td>\n",
       "      <td>1.78</td>\n",
       "    </tr>\n",
       "    <tr>\n",
       "      <th>4</th>\n",
       "      <td>1</td>\n",
       "      <td>0</td>\n",
       "      <td>166.7</td>\n",
       "      <td>113</td>\n",
       "      <td>28.34</td>\n",
       "      <td>148.3</td>\n",
       "      <td>122</td>\n",
       "      <td>12.61</td>\n",
       "      <td>186.9</td>\n",
       "      <td>121</td>\n",
       "      <td>8.41</td>\n",
       "      <td>10.1</td>\n",
       "      <td>2.73</td>\n",
       "    </tr>\n",
       "  </tbody>\n",
       "</table>\n",
       "</div>"
      ],
      "text/plain": [
       "   International plan  Voice mail plan  Total day minutes  Total day calls  \\\n",
       "0                   0                1              265.1              110   \n",
       "1                   0                1              161.6              123   \n",
       "2                   0                0              243.4              114   \n",
       "3                   1                0              299.4               71   \n",
       "4                   1                0              166.7              113   \n",
       "\n",
       "   Total day charge  Total eve minutes  Total eve calls  Total eve charge  \\\n",
       "0             45.07              197.4               99             16.78   \n",
       "1             27.47              195.5              103             16.62   \n",
       "2             41.38              121.2              110             10.30   \n",
       "3             50.90               61.9               88              5.26   \n",
       "4             28.34              148.3              122             12.61   \n",
       "\n",
       "   Total night minutes  Total night calls  Total night charge  \\\n",
       "0                244.7                 91               11.01   \n",
       "1                254.4                103               11.45   \n",
       "2                162.6                104                7.32   \n",
       "3                196.9                 89                8.86   \n",
       "4                186.9                121                8.41   \n",
       "\n",
       "   Total intl minutes  Total intl charge  \n",
       "0                10.0               2.70  \n",
       "1                13.7               3.70  \n",
       "2                12.2               3.29  \n",
       "3                 6.6               1.78  \n",
       "4                10.1               2.73  "
      ]
     },
     "execution_count": 16,
     "metadata": {},
     "output_type": "execute_result"
    }
   ],
   "source": [
    "X.head()"
   ]
  },
  {
   "cell_type": "code",
   "execution_count": 17,
   "id": "6e149b20",
   "metadata": {},
   "outputs": [],
   "source": [
    "# Normalize data\n",
    "def Norm(x):\n",
    "    return((x-x.mean())/x.std())"
   ]
  },
  {
   "cell_type": "code",
   "execution_count": 18,
   "id": "b77dfe13",
   "metadata": {
    "scrolled": true
   },
   "outputs": [
    {
     "data": {
      "text/html": [
       "<div>\n",
       "<style scoped>\n",
       "    .dataframe tbody tr th:only-of-type {\n",
       "        vertical-align: middle;\n",
       "    }\n",
       "\n",
       "    .dataframe tbody tr th {\n",
       "        vertical-align: top;\n",
       "    }\n",
       "\n",
       "    .dataframe thead th {\n",
       "        text-align: right;\n",
       "    }\n",
       "</style>\n",
       "<table border=\"1\" class=\"dataframe\">\n",
       "  <thead>\n",
       "    <tr style=\"text-align: right;\">\n",
       "      <th></th>\n",
       "      <th>Total day minutes</th>\n",
       "      <th>Total day calls</th>\n",
       "      <th>Total day charge</th>\n",
       "      <th>Total eve minutes</th>\n",
       "      <th>Total eve calls</th>\n",
       "      <th>Total eve charge</th>\n",
       "      <th>Total night minutes</th>\n",
       "      <th>Total night calls</th>\n",
       "      <th>Total night charge</th>\n",
       "      <th>Total intl minutes</th>\n",
       "      <th>Total intl charge</th>\n",
       "    </tr>\n",
       "  </thead>\n",
       "  <tbody>\n",
       "    <tr>\n",
       "      <th>0</th>\n",
       "      <td>1.566532</td>\n",
       "      <td>0.476572</td>\n",
       "      <td>1.566801</td>\n",
       "      <td>-0.070599</td>\n",
       "      <td>-0.055932</td>\n",
       "      <td>-0.070416</td>\n",
       "      <td>0.866613</td>\n",
       "      <td>-0.465425</td>\n",
       "      <td>0.865899</td>\n",
       "      <td>-0.084995</td>\n",
       "      <td>-0.085678</td>\n",
       "    </tr>\n",
       "    <tr>\n",
       "      <th>1</th>\n",
       "      <td>-0.333688</td>\n",
       "      <td>1.124334</td>\n",
       "      <td>-0.333963</td>\n",
       "      <td>-0.108064</td>\n",
       "      <td>0.144845</td>\n",
       "      <td>-0.107533</td>\n",
       "      <td>1.058412</td>\n",
       "      <td>0.147802</td>\n",
       "      <td>1.059231</td>\n",
       "      <td>1.240296</td>\n",
       "      <td>1.240982</td>\n",
       "    </tr>\n",
       "    <tr>\n",
       "      <th>2</th>\n",
       "      <td>1.168128</td>\n",
       "      <td>0.675883</td>\n",
       "      <td>1.168289</td>\n",
       "      <td>-1.573147</td>\n",
       "      <td>0.496204</td>\n",
       "      <td>-1.573664</td>\n",
       "      <td>-0.756756</td>\n",
       "      <td>0.198905</td>\n",
       "      <td>-0.755457</td>\n",
       "      <td>0.703015</td>\n",
       "      <td>0.697052</td>\n",
       "    </tr>\n",
       "    <tr>\n",
       "      <th>3</th>\n",
       "      <td>2.196267</td>\n",
       "      <td>-1.466716</td>\n",
       "      <td>2.196429</td>\n",
       "      <td>-2.742453</td>\n",
       "      <td>-0.608068</td>\n",
       "      <td>-2.742856</td>\n",
       "      <td>-0.078539</td>\n",
       "      <td>-0.567629</td>\n",
       "      <td>-0.078794</td>\n",
       "      <td>-1.302831</td>\n",
       "      <td>-1.306205</td>\n",
       "    </tr>\n",
       "    <tr>\n",
       "      <th>4</th>\n",
       "      <td>-0.240054</td>\n",
       "      <td>0.626055</td>\n",
       "      <td>-0.240005</td>\n",
       "      <td>-1.038776</td>\n",
       "      <td>1.098534</td>\n",
       "      <td>-1.037784</td>\n",
       "      <td>-0.276270</td>\n",
       "      <td>1.067643</td>\n",
       "      <td>-0.276520</td>\n",
       "      <td>-0.049177</td>\n",
       "      <td>-0.045878</td>\n",
       "    </tr>\n",
       "  </tbody>\n",
       "</table>\n",
       "</div>"
      ],
      "text/plain": [
       "   Total day minutes  Total day calls  Total day charge  Total eve minutes  \\\n",
       "0           1.566532         0.476572          1.566801          -0.070599   \n",
       "1          -0.333688         1.124334         -0.333963          -0.108064   \n",
       "2           1.168128         0.675883          1.168289          -1.573147   \n",
       "3           2.196267        -1.466716          2.196429          -2.742453   \n",
       "4          -0.240054         0.626055         -0.240005          -1.038776   \n",
       "\n",
       "   Total eve calls  Total eve charge  Total night minutes  Total night calls  \\\n",
       "0        -0.055932         -0.070416             0.866613          -0.465425   \n",
       "1         0.144845         -0.107533             1.058412           0.147802   \n",
       "2         0.496204         -1.573664            -0.756756           0.198905   \n",
       "3        -0.608068         -2.742856            -0.078539          -0.567629   \n",
       "4         1.098534         -1.037784            -0.276270           1.067643   \n",
       "\n",
       "   Total night charge  Total intl minutes  Total intl charge  \n",
       "0            0.865899           -0.084995          -0.085678  \n",
       "1            1.059231            1.240296           1.240982  \n",
       "2           -0.755457            0.703015           0.697052  \n",
       "3           -0.078794           -1.302831          -1.306205  \n",
       "4           -0.276520           -0.049177          -0.045878  "
      ]
     },
     "execution_count": 18,
     "metadata": {},
     "output_type": "execute_result"
    }
   ],
   "source": [
    "X_norm = X.iloc[:,2:].apply(Norm)\n",
    "X_norm.head()"
   ]
  },
  {
   "cell_type": "code",
   "execution_count": 19,
   "id": "faf555bb",
   "metadata": {},
   "outputs": [],
   "source": [
    "X = pd.merge(X.iloc[:,0:2], X_norm, left_index=True, right_index=True)"
   ]
  },
  {
   "cell_type": "code",
   "execution_count": 20,
   "id": "05b1c914",
   "metadata": {},
   "outputs": [
    {
     "data": {
      "text/html": [
       "<div>\n",
       "<style scoped>\n",
       "    .dataframe tbody tr th:only-of-type {\n",
       "        vertical-align: middle;\n",
       "    }\n",
       "\n",
       "    .dataframe tbody tr th {\n",
       "        vertical-align: top;\n",
       "    }\n",
       "\n",
       "    .dataframe thead th {\n",
       "        text-align: right;\n",
       "    }\n",
       "</style>\n",
       "<table border=\"1\" class=\"dataframe\">\n",
       "  <thead>\n",
       "    <tr style=\"text-align: right;\">\n",
       "      <th></th>\n",
       "      <th>International plan</th>\n",
       "      <th>Voice mail plan</th>\n",
       "      <th>Total day minutes</th>\n",
       "      <th>Total day calls</th>\n",
       "      <th>Total day charge</th>\n",
       "      <th>Total eve minutes</th>\n",
       "      <th>Total eve calls</th>\n",
       "      <th>Total eve charge</th>\n",
       "      <th>Total night minutes</th>\n",
       "      <th>Total night calls</th>\n",
       "      <th>Total night charge</th>\n",
       "      <th>Total intl minutes</th>\n",
       "      <th>Total intl charge</th>\n",
       "    </tr>\n",
       "  </thead>\n",
       "  <tbody>\n",
       "    <tr>\n",
       "      <th>0</th>\n",
       "      <td>0</td>\n",
       "      <td>1</td>\n",
       "      <td>1.566532</td>\n",
       "      <td>0.476572</td>\n",
       "      <td>1.566801</td>\n",
       "      <td>-0.070599</td>\n",
       "      <td>-0.055932</td>\n",
       "      <td>-0.070416</td>\n",
       "      <td>0.866613</td>\n",
       "      <td>-0.465425</td>\n",
       "      <td>0.865899</td>\n",
       "      <td>-0.084995</td>\n",
       "      <td>-0.085678</td>\n",
       "    </tr>\n",
       "    <tr>\n",
       "      <th>1</th>\n",
       "      <td>0</td>\n",
       "      <td>1</td>\n",
       "      <td>-0.333688</td>\n",
       "      <td>1.124334</td>\n",
       "      <td>-0.333963</td>\n",
       "      <td>-0.108064</td>\n",
       "      <td>0.144845</td>\n",
       "      <td>-0.107533</td>\n",
       "      <td>1.058412</td>\n",
       "      <td>0.147802</td>\n",
       "      <td>1.059231</td>\n",
       "      <td>1.240296</td>\n",
       "      <td>1.240982</td>\n",
       "    </tr>\n",
       "    <tr>\n",
       "      <th>2</th>\n",
       "      <td>0</td>\n",
       "      <td>0</td>\n",
       "      <td>1.168128</td>\n",
       "      <td>0.675883</td>\n",
       "      <td>1.168289</td>\n",
       "      <td>-1.573147</td>\n",
       "      <td>0.496204</td>\n",
       "      <td>-1.573664</td>\n",
       "      <td>-0.756756</td>\n",
       "      <td>0.198905</td>\n",
       "      <td>-0.755457</td>\n",
       "      <td>0.703015</td>\n",
       "      <td>0.697052</td>\n",
       "    </tr>\n",
       "    <tr>\n",
       "      <th>3</th>\n",
       "      <td>1</td>\n",
       "      <td>0</td>\n",
       "      <td>2.196267</td>\n",
       "      <td>-1.466716</td>\n",
       "      <td>2.196429</td>\n",
       "      <td>-2.742453</td>\n",
       "      <td>-0.608068</td>\n",
       "      <td>-2.742856</td>\n",
       "      <td>-0.078539</td>\n",
       "      <td>-0.567629</td>\n",
       "      <td>-0.078794</td>\n",
       "      <td>-1.302831</td>\n",
       "      <td>-1.306205</td>\n",
       "    </tr>\n",
       "    <tr>\n",
       "      <th>4</th>\n",
       "      <td>1</td>\n",
       "      <td>0</td>\n",
       "      <td>-0.240054</td>\n",
       "      <td>0.626055</td>\n",
       "      <td>-0.240005</td>\n",
       "      <td>-1.038776</td>\n",
       "      <td>1.098534</td>\n",
       "      <td>-1.037784</td>\n",
       "      <td>-0.276270</td>\n",
       "      <td>1.067643</td>\n",
       "      <td>-0.276520</td>\n",
       "      <td>-0.049177</td>\n",
       "      <td>-0.045878</td>\n",
       "    </tr>\n",
       "  </tbody>\n",
       "</table>\n",
       "</div>"
      ],
      "text/plain": [
       "   International plan  Voice mail plan  Total day minutes  Total day calls  \\\n",
       "0                   0                1           1.566532         0.476572   \n",
       "1                   0                1          -0.333688         1.124334   \n",
       "2                   0                0           1.168128         0.675883   \n",
       "3                   1                0           2.196267        -1.466716   \n",
       "4                   1                0          -0.240054         0.626055   \n",
       "\n",
       "   Total day charge  Total eve minutes  Total eve calls  Total eve charge  \\\n",
       "0          1.566801          -0.070599        -0.055932         -0.070416   \n",
       "1         -0.333963          -0.108064         0.144845         -0.107533   \n",
       "2          1.168289          -1.573147         0.496204         -1.573664   \n",
       "3          2.196429          -2.742453        -0.608068         -2.742856   \n",
       "4         -0.240005          -1.038776         1.098534         -1.037784   \n",
       "\n",
       "   Total night minutes  Total night calls  Total night charge  \\\n",
       "0             0.866613          -0.465425            0.865899   \n",
       "1             1.058412           0.147802            1.059231   \n",
       "2            -0.756756           0.198905           -0.755457   \n",
       "3            -0.078539          -0.567629           -0.078794   \n",
       "4            -0.276270           1.067643           -0.276520   \n",
       "\n",
       "   Total intl minutes  Total intl charge  \n",
       "0           -0.084995          -0.085678  \n",
       "1            1.240296           1.240982  \n",
       "2            0.703015           0.697052  \n",
       "3           -1.302831          -1.306205  \n",
       "4           -0.049177          -0.045878  "
      ]
     },
     "execution_count": 20,
     "metadata": {},
     "output_type": "execute_result"
    }
   ],
   "source": [
    "X.head()"
   ]
  },
  {
   "cell_type": "code",
   "execution_count": 21,
   "id": "7fe01160",
   "metadata": {},
   "outputs": [],
   "source": [
    "# Confusion matrix function\n",
    "target_names = ['not churn', 'churn']\n",
    "\n",
    "def plot_confusion_matrix(cm, classes,\n",
    "                          title='Confusion matrix',\n",
    "                          cmap=plt.cm.Blues):\n",
    "    \"\"\"\n",
    "    This function prints and plots the confusion matrix.\n",
    "    Normalization can be applied by setting `normalize=True`.\n",
    "    \"\"\"\n",
    "    plt.imshow(cm, interpolation='nearest', cmap=cmap)\n",
    "    plt.title(title)\n",
    "    plt.colorbar()\n",
    "    tick_marks = np.arange(len(classes))\n",
    "    plt.xticks(tick_marks, classes, rotation=45)\n",
    "    plt.yticks(tick_marks, classes)\n",
    "\n",
    "    print(cm)\n",
    "\n",
    "    thresh = 3*cm.max()/4\n",
    "    for i, j in itertools.product(range(cm.shape[0]), range(cm.shape[1])):\n",
    "        plt.text(j, i, cm[i, j],\n",
    "                 horizontalalignment=\"center\",\n",
    "                 color=\"white\" if cm[i, j] > thresh else \"black\")\n",
    "\n",
    "    plt.tight_layout()\n",
    "    plt.ylabel('True label')\n",
    "    plt.xlabel('Predicted label')"
   ]
  },
  {
   "cell_type": "code",
   "execution_count": 22,
   "id": "374daf0f",
   "metadata": {},
   "outputs": [],
   "source": [
    "# Metrics\n",
    "def pretty_metrics(precision_recall_fscore=0,accuracy_score=0):\n",
    "    if precision_recall_fscore==0:\n",
    "        metric_dict={'accuracy':[],'precision':[],'recall':[],'F1':[]}\n",
    "        return metric_dict\n",
    "    \n",
    "    #This function prints out the precision, recall,f-score and accuracy is also saves the result to a dictionary \n",
    "    metric_dict={'accuracy':[],'precision':[],'recall':[],'F1':[]}\n",
    "    metric_dict['accuracy']=accuracy_score\n",
    "    metric_dict['precision']=precision_recall_fscore[0][1]\n",
    "    metric_dict['recall']=precision_recall_fscore[1][1]\n",
    "    metric_dict['F1']=precision_recall_fscore[2][1]\n",
    "    [print(key,value) for key, value in metric_dict.items()]\n",
    "    return metric_dict"
   ]
  },
  {
   "cell_type": "code",
   "execution_count": 23,
   "id": "d5423884",
   "metadata": {},
   "outputs": [
    {
     "name": "stdout",
     "output_type": "stream",
     "text": [
      "Training data size: 2666\n",
      "Testing data size: 667\n"
     ]
    }
   ],
   "source": [
    "# Partition dataset into training and test data\n",
    "X_train, X_test, y_train, y_test = train_test_split(X, y, test_size=0.2,random_state=0)\n",
    "print('Training data size:',X_train.shape[0])\n",
    "print('Testing data size:',X_test.shape[0])"
   ]
  },
  {
   "cell_type": "markdown",
   "id": "0929468f",
   "metadata": {},
   "source": [
    "<a id='knn'></a>"
   ]
  },
  {
   "cell_type": "markdown",
   "id": "86945ead",
   "metadata": {},
   "source": [
    "## K Nearest Neighbors"
   ]
  },
  {
   "cell_type": "code",
   "execution_count": 24,
   "id": "21a9a4a2",
   "metadata": {},
   "outputs": [],
   "source": [
    "# Try K from 1 to 25\n",
    "max_k = 25\n",
    "\n",
    "# Create an empty list accuracy\n",
    "accuracy = []"
   ]
  },
  {
   "cell_type": "code",
   "execution_count": 25,
   "id": "b30aa9f6",
   "metadata": {},
   "outputs": [],
   "source": [
    "for k in range(1, max_k + 1):\n",
    "    # Create a KNN classifier\n",
    "    knn = KNeighborsClassifier(n_neighbors=k)\n",
    "    \n",
    "    # Train the classifier\n",
    "    knn = knn.fit(X_train, y_train)\n",
    "    yhat = knn.predict(X_test)\n",
    "    \n",
    "    # Evaluate the classifier with accuracy  \n",
    "    accuracy.append(np.mean(yhat==y_test))"
   ]
  },
  {
   "cell_type": "code",
   "execution_count": 26,
   "id": "44582c00",
   "metadata": {
    "scrolled": true
   },
   "outputs": [
    {
     "data": {
      "image/png": "[encoded data removed]",
      "text/plain": [
       "<Figure size 432x288 with 1 Axes>"
      ]
     },
     "metadata": {
      "needs_background": "light"
     },
     "output_type": "display_data"
    }
   ],
   "source": [
    "plt.plot([n+1 for n in range(len(accuracy))],accuracy)\n",
    "plt.xlabel('k')\n",
    "plt.ylabel('Accuracy')\n",
    "plt.show()"
   ]
  },
  {
   "cell_type": "code",
   "execution_count": 27,
   "id": "be9481a3",
   "metadata": {
    "scrolled": true
   },
   "outputs": [
    {
     "data": {
      "text/plain": [
       "[0.8335832083958021,\n",
       " 0.8800599700149925,\n",
       " 0.8770614692653673,\n",
       " 0.8875562218890555,\n",
       " 0.8905547226386806,\n",
       " 0.8830584707646177,\n",
       " 0.8920539730134932,\n",
       " 0.881559220389805,\n",
       " 0.8845577211394303,\n",
       " 0.881559220389805,\n",
       " 0.8800599700149925,\n",
       " 0.8800599700149925,\n",
       " 0.8830584707646177,\n",
       " 0.881559220389805,\n",
       " 0.8845577211394303,\n",
       " 0.8800599700149925,\n",
       " 0.8860569715142429,\n",
       " 0.881559220389805,\n",
       " 0.8830584707646177,\n",
       " 0.881559220389805,\n",
       " 0.8830584707646177,\n",
       " 0.8785607196401799,\n",
       " 0.8800599700149925,\n",
       " 0.8770614692653673,\n",
       " 0.881559220389805]"
      ]
     },
     "execution_count": 27,
     "metadata": {},
     "output_type": "execute_result"
    }
   ],
   "source": [
    "accuracy"
   ]
  },
  {
   "cell_type": "code",
   "execution_count": 28,
   "id": "6f6eb582",
   "metadata": {},
   "outputs": [
    {
     "data": {
      "text/plain": [
       "0.8920539730134932"
      ]
     },
     "execution_count": 28,
     "metadata": {},
     "output_type": "execute_result"
    }
   ],
   "source": [
    "max(accuracy)"
   ]
  },
  {
   "cell_type": "code",
   "execution_count": 29,
   "id": "555b1fe7",
   "metadata": {},
   "outputs": [
    {
     "data": {
      "text/plain": [
       "7"
      ]
     },
     "execution_count": 29,
     "metadata": {},
     "output_type": "execute_result"
    }
   ],
   "source": [
    "accuracy.index(max(accuracy)) + 1"
   ]
  },
  {
   "cell_type": "markdown",
   "id": "83754934",
   "metadata": {},
   "source": [
    "Maximum accuracy is 89.2% when k=7."
   ]
  },
  {
   "cell_type": "code",
   "execution_count": 30,
   "id": "fdef50bb",
   "metadata": {},
   "outputs": [],
   "source": [
    "# Rerun knn and set k=7\n",
    "knn = KNeighborsClassifier(n_neighbors=7)\n",
    "knn.fit(X_train, y_train)\n",
    "knn_yhat = knn.predict(X_test)"
   ]
  },
  {
   "cell_type": "code",
   "execution_count": 31,
   "id": "8138a352",
   "metadata": {},
   "outputs": [
    {
     "data": {
      "text/plain": [
       "0.8920539730134932"
      ]
     },
     "execution_count": 31,
     "metadata": {},
     "output_type": "execute_result"
    }
   ],
   "source": [
    "# Check if accuracy matches\n",
    "acc = np.mean(knn_yhat==y_test)\n",
    "acc"
   ]
  },
  {
   "cell_type": "code",
   "execution_count": 32,
   "id": "fb923b34",
   "metadata": {},
   "outputs": [
    {
     "name": "stdout",
     "output_type": "stream",
     "text": [
      "[[569  67]\n",
      " [  5  26]]\n"
     ]
    },
    {
     "data": {
      "image/png": "[encoded data removed]",
      "text/plain": [
       "<Figure size 432x288 with 2 Axes>"
      ]
     },
     "metadata": {
      "needs_background": "light"
     },
     "output_type": "display_data"
    }
   ],
   "source": [
    "knn_cm = plot_confusion_matrix(confusion_matrix(knn_yhat,y_test), classes=target_names, title='Confusion matrix, K Nearest Neighbors')"
   ]
  },
  {
   "cell_type": "code",
   "execution_count": 33,
   "id": "99628efe",
   "metadata": {},
   "outputs": [
    {
     "name": "stdout",
     "output_type": "stream",
     "text": [
      "accuracy 0.8920539730134932\n",
      "precision 0.8387096774193549\n",
      "recall 0.27956989247311825\n",
      "F1 0.41935483870967744\n"
     ]
    }
   ],
   "source": [
    "prf1 = precision_recall_fscore_support(y_test,knn_yhat)\n",
    "knn_metrics = pretty_metrics(precision_recall_fscore=prf1,accuracy_score=acc)"
   ]
  },
  {
   "cell_type": "markdown",
   "id": "7095581e",
   "metadata": {},
   "source": [
    "<a id='lr'></a>"
   ]
  },
  {
   "cell_type": "markdown",
   "id": "d5498d43",
   "metadata": {},
   "source": [
    "## Logistic Regression"
   ]
  },
  {
   "cell_type": "code",
   "execution_count": 34,
   "id": "96518874",
   "metadata": {},
   "outputs": [],
   "source": [
    "C = [0.001, 0.01, 0.1, 1]\n",
    "\n",
    "# Create an empty list accuracy\n",
    "accuracy = []\n",
    "\n",
    "for cval in C:\n",
    "    LR = LogisticRegression(C=cval)\n",
    "    LR.fit(X_train,y_train)\n",
    "    yhat=LR.predict(X_test)\n",
    "\n",
    "    # Evaluate the classifier with accuracy  \n",
    "    accuracy.append(np.mean(yhat==y_test))"
   ]
  },
  {
   "cell_type": "code",
   "execution_count": 35,
   "id": "7c245a9b",
   "metadata": {},
   "outputs": [
    {
     "data": {
      "text/plain": [
       "[0.8605697151424287, 0.8620689655172413, 0.8725637181409296, 0.863568215892054]"
      ]
     },
     "execution_count": 35,
     "metadata": {},
     "output_type": "execute_result"
    }
   ],
   "source": [
    "accuracy"
   ]
  },
  {
   "cell_type": "code",
   "execution_count": 36,
   "id": "0edff164",
   "metadata": {},
   "outputs": [
    {
     "data": {
      "text/plain": [
       "0.8725637181409296"
      ]
     },
     "execution_count": 36,
     "metadata": {},
     "output_type": "execute_result"
    }
   ],
   "source": [
    "max(accuracy)"
   ]
  },
  {
   "cell_type": "code",
   "execution_count": 37,
   "id": "5f5a6b1a",
   "metadata": {},
   "outputs": [
    {
     "data": {
      "text/plain": [
       "0.1"
      ]
     },
     "execution_count": 37,
     "metadata": {},
     "output_type": "execute_result"
    }
   ],
   "source": [
    "C[accuracy.index(max(accuracy))]"
   ]
  },
  {
   "cell_type": "markdown",
   "id": "30f5ce3f",
   "metadata": {},
   "source": [
    "Maximum accuracy is 87.3% when C=0.1."
   ]
  },
  {
   "cell_type": "code",
   "execution_count": 38,
   "id": "57058675",
   "metadata": {},
   "outputs": [],
   "source": [
    "# Rerun LR and set C=0.1\n",
    "LR = LogisticRegression(C=0.1)\n",
    "LR.fit(X_train,y_train)\n",
    "LR_yhat=LR.predict(X_test)"
   ]
  },
  {
   "cell_type": "code",
   "execution_count": 39,
   "id": "1c19e7b4",
   "metadata": {},
   "outputs": [
    {
     "data": {
      "text/plain": [
       "0.8725637181409296"
      ]
     },
     "execution_count": 39,
     "metadata": {},
     "output_type": "execute_result"
    }
   ],
   "source": [
    "# Check if accuracy matches\n",
    "acc = np.mean(LR_yhat==y_test)\n",
    "acc"
   ]
  },
  {
   "cell_type": "code",
   "execution_count": 40,
   "id": "984f7b85",
   "metadata": {},
   "outputs": [
    {
     "name": "stdout",
     "output_type": "stream",
     "text": [
      "[[572  83]\n",
      " [  2  10]]\n"
     ]
    },
    {
     "data": {
      "image/png": "[encoded data removed]",
      "text/plain": [
       "<Figure size 432x288 with 2 Axes>"
      ]
     },
     "metadata": {
      "needs_background": "light"
     },
     "output_type": "display_data"
    }
   ],
   "source": [
    "lr_cm = plot_confusion_matrix(confusion_matrix(LR_yhat,y_test), classes=target_names,title='Confusion matrix, Logistic Regression')"
   ]
  },
  {
   "cell_type": "code",
   "execution_count": 41,
   "id": "846d7964",
   "metadata": {},
   "outputs": [
    {
     "name": "stdout",
     "output_type": "stream",
     "text": [
      "accuracy 0.8725637181409296\n",
      "precision 0.8333333333333334\n",
      "recall 0.10752688172043011\n",
      "F1 0.19047619047619047\n"
     ]
    }
   ],
   "source": [
    "prf1 = precision_recall_fscore_support(y_test,LR_yhat)\n",
    "LR_metrics = pretty_metrics(precision_recall_fscore=prf1,accuracy_score=acc)"
   ]
  },
  {
   "cell_type": "markdown",
   "id": "d7b55c35",
   "metadata": {},
   "source": [
    "<a id='svm'></a>"
   ]
  },
  {
   "cell_type": "markdown",
   "id": "435653bd",
   "metadata": {},
   "source": [
    "## Support Vector Machine"
   ]
  },
  {
   "cell_type": "code",
   "execution_count": 42,
   "id": "be01ef35",
   "metadata": {},
   "outputs": [],
   "source": [
    "# SVM Grid Search\n",
    "SVM = GridSearchCV(SVC(), {\n",
    "    'C': [0.01,0.1 ,1, 10],\n",
    "    'kernel': ['rbf', 'linear']\n",
    "}, cv = 5)"
   ]
  },
  {
   "cell_type": "code",
   "execution_count": 43,
   "id": "99bace08",
   "metadata": {},
   "outputs": [
    {
     "data": {
      "text/plain": [
       "GridSearchCV(cv=5, estimator=SVC(),\n",
       "             param_grid={'C': [0.01, 0.1, 1, 10], 'kernel': ['rbf', 'linear']})"
      ]
     },
     "execution_count": 43,
     "metadata": {},
     "output_type": "execute_result"
    }
   ],
   "source": [
    "SVM.fit(X_train,y_train)"
   ]
  },
  {
   "cell_type": "code",
   "execution_count": 44,
   "id": "bbb329b2",
   "metadata": {},
   "outputs": [
    {
     "data": {
      "text/plain": [
       "{'C': 10, 'kernel': 'rbf'}"
      ]
     },
     "execution_count": 44,
     "metadata": {},
     "output_type": "execute_result"
    }
   ],
   "source": [
    "SVM.best_params_"
   ]
  },
  {
   "cell_type": "markdown",
   "id": "e127841a",
   "metadata": {},
   "source": [
    "SVM is optimized when C=10 and kernel=rbf."
   ]
  },
  {
   "cell_type": "code",
   "execution_count": 45,
   "id": "a7f5803e",
   "metadata": {},
   "outputs": [],
   "source": [
    "# Rerun SVM and set C=10, kernel=rbf\n",
    "SVM=SVC(C=10, kernel='rbf',cache_size=600)\n",
    "SVM.fit(X_train,y_train)\n",
    "SVM_yhat=SVM.predict(X_test)"
   ]
  },
  {
   "cell_type": "code",
   "execution_count": 46,
   "id": "d806dec7",
   "metadata": {},
   "outputs": [
    {
     "data": {
      "text/plain": [
       "0.9115442278860569"
      ]
     },
     "execution_count": 46,
     "metadata": {},
     "output_type": "execute_result"
    }
   ],
   "source": [
    "acc = np.mean(SVM_yhat==y_test)\n",
    "acc"
   ]
  },
  {
   "cell_type": "code",
   "execution_count": 47,
   "id": "2aa090af",
   "metadata": {},
   "outputs": [
    {
     "name": "stdout",
     "output_type": "stream",
     "text": [
      "[[564  49]\n",
      " [ 10  44]]\n"
     ]
    },
    {
     "data": {
      "image/png": "[encoded data removed]",
      "text/plain": [
       "<Figure size 432x288 with 2 Axes>"
      ]
     },
     "metadata": {
      "needs_background": "light"
     },
     "output_type": "display_data"
    }
   ],
   "source": [
    "svm_cm = plot_confusion_matrix(confusion_matrix(SVM_yhat,y_test), classes=target_names,title='Confusion matrix, Support Vector Machine')"
   ]
  },
  {
   "cell_type": "code",
   "execution_count": 48,
   "id": "604a2eca",
   "metadata": {},
   "outputs": [
    {
     "name": "stdout",
     "output_type": "stream",
     "text": [
      "accuracy 0.9115442278860569\n",
      "precision 0.8148148148148148\n",
      "recall 0.4731182795698925\n",
      "F1 0.5986394557823128\n"
     ]
    }
   ],
   "source": [
    "prf1 = precision_recall_fscore_support(y_test,SVM_yhat)\n",
    "SVM_metrics = pretty_metrics(precision_recall_fscore=prf1,accuracy_score=acc)"
   ]
  },
  {
   "cell_type": "markdown",
   "id": "3522caef",
   "metadata": {},
   "source": [
    "<a id='tree'></a>"
   ]
  },
  {
   "cell_type": "markdown",
   "id": "c8f2b245",
   "metadata": {},
   "source": [
    "## Decision Tree"
   ]
  },
  {
   "cell_type": "code",
   "execution_count": 49,
   "id": "6c5304d9",
   "metadata": {},
   "outputs": [],
   "source": [
    "def get_accuracy(X_train, X_test, y_train, y_test, model):\n",
    "    return  {\"test Accuracy\":accuracy_score(y_test, model.predict(X_test)),\"train Accuracy\": accuracy_score(y_train, model.predict(X_train))}"
   ]
  },
  {
   "cell_type": "code",
   "execution_count": 50,
   "id": "5394c007",
   "metadata": {},
   "outputs": [],
   "source": [
    "max_depth=5\n",
    "Tree = DecisionTreeClassifier(criterion=\"entropy\", max_depth = max_depth,random_state=10)\n",
    "Tree.fit(X_train,y_train)\n",
    "Tree_yhat = Tree.predict(X_test)"
   ]
  },
  {
   "cell_type": "code",
   "execution_count": 51,
   "id": "c7c3b40e",
   "metadata": {},
   "outputs": [
    {
     "data": {
      "text/plain": [
       "{'test Accuracy': 0.9085457271364318, 'train Accuracy': 0.9122280570142536}"
      ]
     },
     "execution_count": 51,
     "metadata": {},
     "output_type": "execute_result"
    }
   ],
   "source": [
    "get_accuracy(X_train, X_test, y_train, y_test,  Tree)"
   ]
  },
  {
   "cell_type": "code",
   "execution_count": 52,
   "id": "f6c44f8f",
   "metadata": {},
   "outputs": [
    {
     "name": "stdout",
     "output_type": "stream",
     "text": [
      "[[568  55]\n",
      " [  6  38]]\n"
     ]
    },
    {
     "data": {
      "image/png": "[encoded data removed]",
      "text/plain": [
       "<Figure size 432x288 with 2 Axes>"
      ]
     },
     "metadata": {
      "needs_background": "light"
     },
     "output_type": "display_data"
    }
   ],
   "source": [
    "dt_cm = plot_confusion_matrix(confusion_matrix(Tree_yhat,y_test), classes=target_names,title='Confusion matrix, Decision Tree')"
   ]
  },
  {
   "cell_type": "code",
   "execution_count": 53,
   "id": "8ce1e880",
   "metadata": {},
   "outputs": [
    {
     "name": "stdout",
     "output_type": "stream",
     "text": [
      "accuracy 0.9085457271364318\n",
      "precision 0.8636363636363636\n",
      "recall 0.40860215053763443\n",
      "F1 0.5547445255474452\n"
     ]
    }
   ],
   "source": [
    "prf1 = precision_recall_fscore_support(y_test,Tree_yhat)\n",
    "Tree_metrics = pretty_metrics(precision_recall_fscore=prf1,accuracy_score=accuracy_score(y_test, Tree_yhat))"
   ]
  },
  {
   "cell_type": "markdown",
   "id": "af8142c0",
   "metadata": {},
   "source": [
    "<a id='bag'></a>"
   ]
  },
  {
   "cell_type": "markdown",
   "id": "8abebe8f",
   "metadata": {},
   "source": [
    "## Decision Tree with Bagging"
   ]
  },
  {
   "cell_type": "code",
   "execution_count": 54,
   "id": "82ed5cca",
   "metadata": {},
   "outputs": [],
   "source": [
    "def get_accuracy_bag(X,y,title,times=20,xlabel='Number Estimators'):\n",
    "    #Iterate through different number of estimators and average out the results  \n",
    "    N_estimators=[n for n in range(1,70)]\n",
    "    times=20\n",
    "    train_acc=np.zeros((times,len(N_estimators)))\n",
    "    test_acc=np.zeros((times,len(N_estimators)))\n",
    "    \n",
    "    train_time=np.zeros((times,len(N_estimators)))\n",
    "    test_time=np.zeros((times,len(N_estimators)))\n",
    "\n",
    "    # Average out the results\n",
    "    for n in tqdm(range(times)):\n",
    "        X_train, X_test, y_train, y_test = train_test_split( X, y, test_size=0.3)\n",
    "        for n_estimators in N_estimators:\n",
    "            #Iterate through different number of estimators and average out the results           \n",
    "            Bag= BaggingClassifier(base_estimator=DecisionTreeClassifier(criterion=\"entropy\", max_depth = 5),n_estimators=n_estimators,bootstrap=True,random_state=0)\n",
    "            Bag.fit(X_train,y_train)\n",
    "            Accuracy=get_accuracy(X_train, X_test, y_train, y_test,  Bag)\n",
    "            train_acc[n,n_estimators-1]=Accuracy['train Accuracy']\n",
    "            test_acc[n,n_estimators-1]=Accuracy['test Accuracy']\n",
    "    fig, ax1 = plt.subplots()\n",
    "\n",
    "    ax2 = ax1.twinx()\n",
    "    ax1.plot(train_acc.mean(axis=0))\n",
    "    ax2.plot(test_acc.mean(axis=0),c='r')\n",
    "    ax1.set_xlabel(xlabel)\n",
    "    ax1.set_ylabel('Training accuracy',color='b')\n",
    "    ax2.set_ylabel('Testing accuracy', color='r')\n",
    "    plt.title(title)\n",
    "    plt.show()   "
   ]
  },
  {
   "cell_type": "code",
   "execution_count": 55,
   "id": "69b541c3",
   "metadata": {},
   "outputs": [],
   "source": [
    "Bag = BaggingClassifier(base_estimator=DecisionTreeClassifier(criterion=\"entropy\", max_depth = 5,random_state=2),n_estimators=30,random_state=0,bootstrap=True)\n",
    "Bag.fit(X_train,y_train)\n",
    "Bag_yhat = Bag.predict(X_test)"
   ]
  },
  {
   "cell_type": "code",
   "execution_count": 56,
   "id": "e8220bc6",
   "metadata": {},
   "outputs": [
    {
     "name": "stdout",
     "output_type": "stream",
     "text": [
      "{'test Accuracy': 0.9160419790104948, 'train Accuracy': 0.9204801200300075}\n"
     ]
    }
   ],
   "source": [
    "print(get_accuracy(X_train, X_test, y_train, y_test,  Bag))"
   ]
  },
  {
   "cell_type": "code",
   "execution_count": 57,
   "id": "2339beaa",
   "metadata": {},
   "outputs": [
    {
     "name": "stdout",
     "output_type": "stream",
     "text": [
      "[[572  54]\n",
      " [  2  39]]\n"
     ]
    },
    {
     "data": {
      "image/png": "[encoded data removed]",
      "text/plain": [
       "<Figure size 432x288 with 2 Axes>"
      ]
     },
     "metadata": {
      "needs_background": "light"
     },
     "output_type": "display_data"
    }
   ],
   "source": [
    "bag_cm = plot_confusion_matrix(confusion_matrix(Bag_yhat,y_test), classes=target_names,title='Confusion matrix, Decision Tree with Bagging')"
   ]
  },
  {
   "cell_type": "code",
   "execution_count": 58,
   "id": "cd039054",
   "metadata": {},
   "outputs": [
    {
     "name": "stdout",
     "output_type": "stream",
     "text": [
      "accuracy 0.9160419790104948\n",
      "precision 0.9512195121951219\n",
      "recall 0.41935483870967744\n",
      "F1 0.582089552238806\n"
     ]
    }
   ],
   "source": [
    "prf1 = precision_recall_fscore_support(y_test,Bag_yhat)\n",
    "Bag_metrics = pretty_metrics(precision_recall_fscore=prf1,accuracy_score=accuracy_score(y_test, Bag_yhat))"
   ]
  },
  {
   "cell_type": "code",
   "execution_count": 60,
   "id": "207cf228",
   "metadata": {},
   "outputs": [
    {
     "name": "stderr",
     "output_type": "stream",
     "text": [
      "100%|██████████████████████████████████████████████████████████████████████████████████| 20/20 [09:21<00:00, 28.06s/it]\n"
     ]
    },
    {
     "data": {
      "image/png": "[encoded data removed]",
      "text/plain": [
       "<Figure size 432x288 with 2 Axes>"
      ]
     },
     "metadata": {
      "needs_background": "light"
     },
     "output_type": "display_data"
    }
   ],
   "source": [
    "# 8-10 mins run time\n",
    "get_accuracy_bag(X, y, \"Customer Churn\")"
   ]
  },
  {
   "cell_type": "markdown",
   "id": "c76b7419",
   "metadata": {},
   "source": [
    "<a id='forest'></a>"
   ]
  },
  {
   "cell_type": "markdown",
   "id": "23f94a2b",
   "metadata": {},
   "source": [
    "## Random Forest"
   ]
  },
  {
   "cell_type": "code",
   "execution_count": 61,
   "id": "d1cb4278",
   "metadata": {},
   "outputs": [],
   "source": [
    "n_estimators=20 "
   ]
  },
  {
   "cell_type": "code",
   "execution_count": 62,
   "id": "b04af9cf",
   "metadata": {},
   "outputs": [
    {
     "data": {
      "text/plain": [
       "3"
      ]
     },
     "execution_count": 62,
     "metadata": {},
     "output_type": "execute_result"
    }
   ],
   "source": [
    "M_features=X.shape[1]\n",
    "max_features=round(np.sqrt(M_features))-1\n",
    "max_features"
   ]
  },
  {
   "cell_type": "code",
   "execution_count": 63,
   "id": "95be635c",
   "metadata": {},
   "outputs": [],
   "source": [
    "forest = RandomForestClassifier(max_features=max_features,n_estimators=n_estimators, random_state=0)\n",
    "forest.fit(X_train,y_train)\n",
    "forest_yhat = forest.predict(X_test)"
   ]
  },
  {
   "cell_type": "code",
   "execution_count": 64,
   "id": "b30788ce",
   "metadata": {},
   "outputs": [
    {
     "name": "stdout",
     "output_type": "stream",
     "text": [
      "{'test Accuracy': 0.9115442278860569, 'train Accuracy': 0.9928732183045762}\n"
     ]
    }
   ],
   "source": [
    "print(get_accuracy(X_train, X_test, y_train, y_test, forest)) "
   ]
  },
  {
   "cell_type": "code",
   "execution_count": 65,
   "id": "058cf759",
   "metadata": {},
   "outputs": [
    {
     "name": "stdout",
     "output_type": "stream",
     "text": [
      "[[569  54]\n",
      " [  5  39]]\n"
     ]
    },
    {
     "data": {
      "image/png": "[encoded data removed]",
      "text/plain": [
       "<Figure size 432x288 with 2 Axes>"
      ]
     },
     "metadata": {
      "needs_background": "light"
     },
     "output_type": "display_data"
    }
   ],
   "source": [
    "forest_cm = plot_confusion_matrix(confusion_matrix(forest_yhat,y_test), classes=target_names,title='Confusion matrix, Random Forest')"
   ]
  },
  {
   "cell_type": "code",
   "execution_count": 66,
   "id": "ea1e7948",
   "metadata": {},
   "outputs": [
    {
     "name": "stdout",
     "output_type": "stream",
     "text": [
      "accuracy 0.9115442278860569\n",
      "precision 0.8863636363636364\n",
      "recall 0.41935483870967744\n",
      "F1 0.5693430656934306\n"
     ]
    }
   ],
   "source": [
    "prf1 = precision_recall_fscore_support(y_test,forest_yhat)\n",
    "forest_metrics = pretty_metrics(precision_recall_fscore=prf1,accuracy_score=accuracy_score(y_test, forest_yhat))"
   ]
  },
  {
   "cell_type": "markdown",
   "id": "d43cc3b4",
   "metadata": {},
   "source": [
    "<a id='comparison'></a>"
   ]
  },
  {
   "cell_type": "markdown",
   "id": "75ff2dbe",
   "metadata": {},
   "source": [
    "## Model Comparison"
   ]
  },
  {
   "cell_type": "code",
   "execution_count": 67,
   "id": "ba091a5f",
   "metadata": {},
   "outputs": [
    {
     "data": {
      "text/html": [
       "<div>\n",
       "<style scoped>\n",
       "    .dataframe tbody tr th:only-of-type {\n",
       "        vertical-align: middle;\n",
       "    }\n",
       "\n",
       "    .dataframe tbody tr th {\n",
       "        vertical-align: top;\n",
       "    }\n",
       "\n",
       "    .dataframe thead th {\n",
       "        text-align: right;\n",
       "    }\n",
       "</style>\n",
       "<table border=\"1\" class=\"dataframe\">\n",
       "  <thead>\n",
       "    <tr style=\"text-align: right;\">\n",
       "      <th></th>\n",
       "      <th>accuracy</th>\n",
       "      <th>precision</th>\n",
       "      <th>recall</th>\n",
       "      <th>F1</th>\n",
       "    </tr>\n",
       "  </thead>\n",
       "  <tbody>\n",
       "    <tr>\n",
       "      <th>KNN</th>\n",
       "      <td>0.892054</td>\n",
       "      <td>0.838710</td>\n",
       "      <td>0.279570</td>\n",
       "      <td>0.419355</td>\n",
       "    </tr>\n",
       "    <tr>\n",
       "      <th>Logistic Regression</th>\n",
       "      <td>0.872564</td>\n",
       "      <td>0.833333</td>\n",
       "      <td>0.107527</td>\n",
       "      <td>0.190476</td>\n",
       "    </tr>\n",
       "    <tr>\n",
       "      <th>SVM</th>\n",
       "      <td>0.911544</td>\n",
       "      <td>0.814815</td>\n",
       "      <td>0.473118</td>\n",
       "      <td>0.598639</td>\n",
       "    </tr>\n",
       "    <tr>\n",
       "      <th>Decision Tree</th>\n",
       "      <td>0.908546</td>\n",
       "      <td>0.863636</td>\n",
       "      <td>0.408602</td>\n",
       "      <td>0.554745</td>\n",
       "    </tr>\n",
       "    <tr>\n",
       "      <th>Decision Tree with Bagging</th>\n",
       "      <td>0.916042</td>\n",
       "      <td>0.951220</td>\n",
       "      <td>0.419355</td>\n",
       "      <td>0.582090</td>\n",
       "    </tr>\n",
       "    <tr>\n",
       "      <th>Random Forest</th>\n",
       "      <td>0.911544</td>\n",
       "      <td>0.886364</td>\n",
       "      <td>0.419355</td>\n",
       "      <td>0.569343</td>\n",
       "    </tr>\n",
       "  </tbody>\n",
       "</table>\n",
       "</div>"
      ],
      "text/plain": [
       "                            accuracy  precision    recall        F1\n",
       "KNN                         0.892054   0.838710  0.279570  0.419355\n",
       "Logistic Regression         0.872564   0.833333  0.107527  0.190476\n",
       "SVM                         0.911544   0.814815  0.473118  0.598639\n",
       "Decision Tree               0.908546   0.863636  0.408602  0.554745\n",
       "Decision Tree with Bagging  0.916042   0.951220  0.419355  0.582090\n",
       "Random Forest               0.911544   0.886364  0.419355  0.569343"
      ]
     },
     "execution_count": 67,
     "metadata": {},
     "output_type": "execute_result"
    }
   ],
   "source": [
    "pd.DataFrame([knn_metrics, LR_metrics, SVM_metrics, Tree_metrics, Bag_metrics, forest_metrics],\n",
    "             index=['KNN', 'Logistic Regression', 'SVM', 'Decision Tree', 'Decision Tree with Bagging', 'Random Forest'])"
   ]
  },
  {
   "cell_type": "code",
   "execution_count": 68,
   "id": "15612074",
   "metadata": {},
   "outputs": [
    {
     "name": "stdout",
     "output_type": "stream",
     "text": [
      "[[569  67]\n",
      " [  5  26]]\n"
     ]
    },
    {
     "data": {
      "image/png": "[encoded data removed]",
      "text/plain": [
       "<Figure size 432x288 with 2 Axes>"
      ]
     },
     "metadata": {
      "needs_background": "light"
     },
     "output_type": "display_data"
    }
   ],
   "source": [
    "plot_confusion_matrix(confusion_matrix(knn_yhat,y_test), classes=target_names, title='Confusion matrix, K Nearest Neighbors')"
   ]
  },
  {
   "cell_type": "code",
   "execution_count": 69,
   "id": "3b14ffbd",
   "metadata": {},
   "outputs": [
    {
     "name": "stdout",
     "output_type": "stream",
     "text": [
      "[[572  83]\n",
      " [  2  10]]\n"
     ]
    },
    {
     "data": {
      "image/png": "[encoded data removed]",
      "text/plain": [
       "<Figure size 432x288 with 2 Axes>"
      ]
     },
     "metadata": {
      "needs_background": "light"
     },
     "output_type": "display_data"
    }
   ],
   "source": [
    "plot_confusion_matrix(confusion_matrix(LR_yhat,y_test), classes=target_names,title='Confusion matrix, Logistic Regression')"
   ]
  },
  {
   "cell_type": "code",
   "execution_count": 70,
   "id": "7a617e4d",
   "metadata": {},
   "outputs": [
    {
     "name": "stdout",
     "output_type": "stream",
     "text": [
      "[[564  49]\n",
      " [ 10  44]]\n"
     ]
    },
    {
     "data": {
      "image/png": "[encoded data removed]",
      "text/plain": [
       "<Figure size 432x288 with 2 Axes>"
      ]
     },
     "metadata": {
      "needs_background": "light"
     },
     "output_type": "display_data"
    }
   ],
   "source": [
    "plot_confusion_matrix(confusion_matrix(SVM_yhat,y_test), classes=target_names,title='Confusion matrix, Support Vector Machine')"
   ]
  },
  {
   "cell_type": "code",
   "execution_count": 71,
   "id": "66acf7cd",
   "metadata": {},
   "outputs": [
    {
     "name": "stdout",
     "output_type": "stream",
     "text": [
      "[[568  55]\n",
      " [  6  38]]\n"
     ]
    },
    {
     "data": {
      "image/png": "[encoded data removed]",
      "text/plain": [
       "<Figure size 432x288 with 2 Axes>"
      ]
     },
     "metadata": {
      "needs_background": "light"
     },
     "output_type": "display_data"
    }
   ],
   "source": [
    "plot_confusion_matrix(confusion_matrix(Tree_yhat,y_test), classes=target_names,title='Confusion matrix, Decision Tree')"
   ]
  },
  {
   "cell_type": "code",
   "execution_count": 72,
   "id": "8fac019d",
   "metadata": {},
   "outputs": [
    {
     "name": "stdout",
     "output_type": "stream",
     "text": [
      "[[572  54]\n",
      " [  2  39]]\n"
     ]
    },
    {
     "data": {
      "image/png": "[encoded data removed]",
      "text/plain": [
       "<Figure size 432x288 with 2 Axes>"
      ]
     },
     "metadata": {
      "needs_background": "light"
     },
     "output_type": "display_data"
    }
   ],
   "source": [
    "plot_confusion_matrix(confusion_matrix(Bag_yhat,y_test), classes=target_names,title='Confusion matrix, Decision Tree with Bagging')"
   ]
  },
  {
   "cell_type": "code",
   "execution_count": 73,
   "id": "ecdbe8a1",
   "metadata": {},
   "outputs": [
    {
     "name": "stdout",
     "output_type": "stream",
     "text": [
      "[[569  54]\n",
      " [  5  39]]\n"
     ]
    },
    {
     "data": {
      "image/png": "[encoded data removed]",
      "text/plain": [
       "<Figure size 432x288 with 2 Axes>"
      ]
     },
     "metadata": {
      "needs_background": "light"
     },
     "output_type": "display_data"
    }
   ],
   "source": [
    "plot_confusion_matrix(confusion_matrix(forest_yhat,y_test), classes=target_names,title='Confusion matrix, Random Forest')"
   ]
  },
  {
   "cell_type": "code",
   "execution_count": null,
   "id": "3f6fd09e",
   "metadata": {},
   "outputs": [],
   "source": []
  }
 ],
 "metadata": {
  "kernelspec": {
   "display_name": "Python 3 (ipykernel)",
   "language": "python",
   "name": "python3"
  },
  "language_info": {
   "codemirror_mode": {
    "name": "ipython",
    "version": 3
   },
   "file_extension": ".py",
   "mimetype": "text/x-python",
   "name": "python",
   "nbconvert_exporter": "python",
   "pygments_lexer": "ipython3",
   "version": "3.9.7"
  }
 },
 "nbformat": 4,
 "nbformat_minor": 5
}
